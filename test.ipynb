{
 "cells": [
  {
   "cell_type": "code",
   "execution_count": 1,
   "metadata": {},
   "outputs": [
    {
     "name": "stdout",
     "output_type": "stream",
     "text": [
      "Shape of Faces matrix -->  (100, 7500)\n"
     ]
    }
   ],
   "source": [
    "from sklearn.neighbors import KNeighborsClassifier\n",
    "import cv2\n",
    "import pickle\n",
    "import numpy as np\n",
    "import os\n",
    "import csv\n",
    "import time\n",
    "from datetime import datetime\n",
    "\n",
    "#dispatch is for voice speaker\n",
    "from win32com.client import Dispatch\n",
    "def speak(str1):\n",
    "    speak=Dispatch((\"SAPI.SpVoice\"))\n",
    "    speak.Speak(str1)\n",
    "\n",
    "video=cv2.VideoCapture(0)\n",
    "facedetect=cv2.CascadeClassifier('D:/higher study/project/face recognition attendance/haarcascade_frontalface_default.xml')\n",
    "\n",
    "with open('D:/higher study/project/face recognition attendance/names.pkl', 'rb') as w:\n",
    "    LABELS=pickle.load(w)\n",
    "with open('D:/higher study/project/face recognition attendance/faces_data.pkl', 'rb') as f:\n",
    "    FACES=pickle.load(f)\n",
    "\n",
    "print('Shape of Faces matrix --> ', FACES.shape)\n",
    "#knn for machine learning\n",
    "knn=KNeighborsClassifier(n_neighbors=5)\n",
    "knn.fit(FACES, LABELS)\n",
    "COL_NAMES = ['NAME', 'TIME']\n",
    "while True:\n",
    "    ret,frame=video.read()\n",
    "    gray=cv2.cvtColor(frame, cv2.COLOR_BGR2GRAY)\n",
    "    faces=facedetect.detectMultiScale(gray, 1.3 ,5)\n",
    "    for (x,y,w,h) in faces:\n",
    "        crop_img=frame[y:y+h, x:x+w, :]\n",
    "        resized_img=cv2.resize(crop_img, (50,50)).flatten().reshape(1,-1)\n",
    "        ts = time.time()\n",
    "        date = datetime.fromtimestamp(ts).strftime(\"%d-%m-%Y\")\n",
    "        timestamp = datetime.fromtimestamp(ts).strftime(\"%H-%M-%S\")\n",
    "        exist=os.path.isfile(\"D:/higher study/project/face recognition attendance/attendance_\" + date + \".csv\")\n",
    "        output=knn.predict(resized_img)\n",
    "        cv2.rectangle(frame, (x,y), (x+w, y+h), (0,0,255), 1)\n",
    "        cv2.rectangle(frame,(x,y),(x+w,y+h),(50,50,255),2)\n",
    "        cv2.rectangle(frame,(x,y-40),(x+w,y),(50,50,255),-1)\n",
    "        cv2.putText(frame, str(output[0]), (x,y-15), cv2.FONT_HERSHEY_COMPLEX, 1, (255,255,255), 1)\n",
    "        attendance=[str(output[0]), str(timestamp)]\n",
    "    cv2.imshow(\"Frame\",frame) \n",
    "\n",
    "    k=cv2.waitKey(1) \n",
    "    if k==ord('o'):\n",
    "        speak(\"Attendance Taken..\")\n",
    "        time.sleep(2)\n",
    "        if exist:\n",
    "            with open(\"D:/higher study/project/face recognition attendance/attendance_\" + date + \".csv\", \"+a\") as csvfile:\n",
    "                writer=csv.writer(csvfile)\n",
    "                writer.writerow(attendance)\n",
    "            csvfile.close()\n",
    "        else:\n",
    "            with open(\"D:/higher study/project/face recognition attendance/attendance)\" + date + \".csv\", \"+a\") as csvfile:\n",
    "                writer=csv.writer(csvfile)\n",
    "                writer.writerow(COL_NAMES)\n",
    "                writer.writerow(attendance)\n",
    "            csvfile.close()\n",
    "            \n",
    "    if k==ord('q'):\n",
    "        break\n",
    "video.release()\n",
    "cv2.destroyAllWindows()"
   ]
  }
 ],
 "metadata": {
  "kernelspec": {
   "display_name": "Python 3",
   "language": "python",
   "name": "python3"
  },
  "language_info": {
   "codemirror_mode": {
    "name": "ipython",
    "version": 3
   },
   "file_extension": ".py",
   "mimetype": "text/x-python",
   "name": "python",
   "nbconvert_exporter": "python",
   "pygments_lexer": "ipython3",
   "version": "3.11.4"
  }
 },
 "nbformat": 4,
 "nbformat_minor": 2
}
