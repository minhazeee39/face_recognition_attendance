{
 "cells": [
  {
   "cell_type": "code",
   "execution_count": 14,
   "metadata": {},
   "outputs": [],
   "source": [
    "import cv2\n",
    "import pickle\n",
    "import numpy as np\n",
    "import os\n",
    "video = cv2.VideoCapture(0)\n",
    "facedetect = cv2.CascadeClassifier('D:/higher study/project/face recognition attendance/haarcascade_frontalface_default.xml')\n",
    "faces_data=[]\n",
    "i= 0;\n",
    "name=input(\"Enter Your Name: \")\n",
    "while True:\n",
    "    ret,frame = video.read()\n",
    "    gray = cv2.cvtColor(frame,cv2.COLOR_BGR2GRAY)\n",
    "    faces = facedetect.detectMultiScale(gray, 1.3, 5)\n",
    "    for (x,y,w,h) in faces:\n",
    "        # croping images & store\n",
    "        crop_img = frame[y:y+h, x:x+w, :]\n",
    "        resized_img=cv2.resize(crop_img, (50,50))\n",
    "        if len(faces_data)<=100 and i%10==0:\n",
    "            faces_data.append(resized_img)\n",
    "        i = i+1\n",
    "        cv2.putText(frame, str(len(faces_data)), (50,50), cv2.FONT_HERSHEY_COMPLEX, 1, (50,50,255), 1)\n",
    "\n",
    "\n",
    "\n",
    "        cv2.rectangle(frame, (x,y), (x+w, y+h), (250,0,0),2)\n",
    "    cv2.imshow(\"Frame\",frame)\n",
    "    k = cv2.waitKey(1)\n",
    "    if k==ord('q') or len(faces_data)==100:\n",
    "        break\n",
    "video.release()\n",
    "cv2.destroyAllWindows()\n",
    "faces_data=np.asarray(faces_data)\n",
    "faces_data=faces_data.reshape(100, -1)\n",
    "#pickle for store and compare face \n",
    "if 'names.pkl' not in os.listdir('D:/higher study/project/face recognition attendance/'):\n",
    "    names=[name]*100\n",
    "    with open('D:/higher study/project/face recognition attendance/names.pkl', 'wb') as f:\n",
    "        pickle.dump(names, f)\n",
    "else:\n",
    "    with open('D:/higher study/project/face recognition attendance/names.pkl', 'rb') as f:\n",
    "        names=pickle.load(f)\n",
    "    names=names+[name]*100\n",
    "    with open('D:/higher study/project/face recognition attendance/names.pkl', 'wb') as f:\n",
    "        pickle.dump(names, f)\n",
    "\n",
    "if 'faces_data.pkl' not in os.listdir('D:/higher study/project/face recognition attendance/'):\n",
    "    with open('D:/higher study/project/face recognition attendance/faces_data.pkl', 'wb') as f:\n",
    "        pickle.dump(faces_data, f)\n",
    "else:\n",
    "    with open('D:/higher study/project/face recognition attendance/faces_data.pkl', 'rb') as f:\n",
    "        faces=pickle.load(f)\n",
    "    faces=np.append(faces, faces_data, axis=0)\n",
    "    with open('D:/higher study/project/face recognition attendance/faces_data.pkl', 'wb') as f:\n",
    "        pickle.dump(faces, f)"
   ]
  },
  {
   "cell_type": "code",
   "execution_count": null,
   "metadata": {},
   "outputs": [],
   "source": []
  }
 ],
 "metadata": {
  "kernelspec": {
   "display_name": "Python 3",
   "language": "python",
   "name": "python3"
  },
  "language_info": {
   "codemirror_mode": {
    "name": "ipython",
    "version": 3
   },
   "file_extension": ".py",
   "mimetype": "text/x-python",
   "name": "python",
   "nbconvert_exporter": "python",
   "pygments_lexer": "ipython3",
   "version": "3.11.4"
  }
 },
 "nbformat": 4,
 "nbformat_minor": 2
}
